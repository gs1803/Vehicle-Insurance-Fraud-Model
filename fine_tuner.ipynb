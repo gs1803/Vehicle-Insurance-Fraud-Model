{
 "cells": [
  {
   "cell_type": "code",
   "execution_count": 1,
   "metadata": {},
   "outputs": [],
   "source": [
    "%load_ext autoreload\n",
    "%autoreload 2\n",
    "\n",
    "import numpy as np\n",
    "import pandas as pd\n",
    "\n",
    "import tensorflow as tf\n",
    "import keras_tuner as kt\n",
    "from keras import layers\n",
    "from keras_tuner import BayesianOptimization\n",
    "\n",
    "from sklearn.utils import class_weight\n",
    "from sklearn.metrics import classification_report\n",
    "import scikitplot as skplt\n",
    "import matplotlib.pyplot as plt\n",
    "\n",
    "from modules.tuner_classes import CustomHyperModel, HyperparameterLogger\n",
    "from utils.image_manipulation import resize_and_pad, swap_labels\n",
    "from utils.log_to_csv import get_all_trials"
   ]
  },
  {
   "cell_type": "code",
   "execution_count": null,
   "metadata": {},
   "outputs": [],
   "source": [
    "device = tf.config.list_physical_devices('GPU')\n",
    "print(f\"Using device: {device}\")\n",
    "\n",
    "data_augmentation = tf.keras.Sequential([\n",
    "    layers.RandomFlip(\"horizontal_and_vertical\"),\n",
    "    layers.RandomRotation(0.2),\n",
    "    layers.RandomZoom(0.2),\n",
    "    layers.RandomContrast(0.2)\n",
    "])\n",
    "\n",
    "preprocess_input = tf.keras.applications.efficientnet_v2.preprocess_input\n",
    "\n",
    "IMG_SIZE = (300, 300)\n",
    "BATCH_SIZE = 64"
   ]
  },
  {
   "cell_type": "code",
   "execution_count": null,
   "metadata": {},
   "outputs": [],
   "source": [
    "train_dir = 'data/train'\n",
    "test_dir = 'data/test'\n",
    "\n",
    "train_dataset = tf.keras.utils.image_dataset_from_directory(train_dir, image_size=IMG_SIZE, batch_size=BATCH_SIZE, seed=50)\n",
    "test_dataset = tf.keras.utils.image_dataset_from_directory(test_dir, image_size=IMG_SIZE, batch_size=BATCH_SIZE, shuffle=False)\n",
    "\n",
    "train_size = int(0.8 * len(train_dataset))\n",
    "val_dataset = train_dataset.skip(train_size)\n",
    "train_dataset = train_dataset.take(train_size)"
   ]
  },
  {
   "cell_type": "code",
   "execution_count": 5,
   "metadata": {},
   "outputs": [],
   "source": [
    "train_dataset = train_dataset.map(resize_and_pad).map(swap_labels)\n",
    "val_dataset = val_dataset.map(resize_and_pad).map(swap_labels)\n",
    "test_dataset = test_dataset.map(resize_and_pad).map(swap_labels)"
   ]
  },
  {
   "cell_type": "code",
   "execution_count": null,
   "metadata": {},
   "outputs": [],
   "source": [
    "train_labels = np.concatenate([y.numpy() for _, y in train_dataset])\n",
    "val_labels = np.concatenate([y.numpy() for _, y in val_dataset])\n",
    "test_labels = np.concatenate([y.numpy() for _, y in test_dataset])\n",
    "all_labels = np.concatenate((train_labels, val_labels, test_labels))\n",
    "\n",
    "class_weights = class_weight.compute_class_weight(class_weight='balanced', classes=np.unique(all_labels), y=all_labels)\n",
    "class_weight_dict = {i: class_weights[i] for i in range(len(class_weights))}\n",
    "print(\"Class weights:\", class_weight_dict)"
   ]
  },
  {
   "cell_type": "code",
   "execution_count": null,
   "metadata": {},
   "outputs": [],
   "source": [
    "tuner = BayesianOptimization(\n",
    "    CustomHyperModel(),\n",
    "    objective=kt.Objective(\"val_f1_score\", direction=\"max\"),\n",
    "    max_trials=10,\n",
    "    executions_per_trial=1,\n",
    "    directory='logs',\n",
    "    project_name='fraud_model',\n",
    "    overwrite=True\n",
    ")\n",
    "\n",
    "hyperparameter_logger = HyperparameterLogger()\n",
    "\n",
    "tuner.search(\n",
    "    train_dataset,\n",
    "    validation_data=val_dataset,\n",
    "    epochs=10,\n",
    "    class_weight=class_weight_dict,\n",
    "    callbacks=[hyperparameter_logger]\n",
    ")"
   ]
  },
  {
   "cell_type": "code",
   "execution_count": null,
   "metadata": {},
   "outputs": [],
   "source": [
    "best_model = tuner.get_best_models(num_models=1)[0]\n",
    "test_accuracy = best_model.evaluate(test_dataset)[1]\n",
    "print(f\"Test accuracy: {test_accuracy:.4f}\")\n",
    "\n",
    "test_predictions = best_model.predict(test_dataset)\n",
    "test_labels = (test_predictions > 0.5).astype(int)[:, 1]\n",
    "\n",
    "true_labels = np.concatenate([y.numpy() for _, y in test_dataset])\n",
    "print(classification_report(true_labels, test_labels))\n",
    "\n",
    "skplt.metrics.plot_confusion_matrix(true_labels, test_labels)\n",
    "skplt.metrics.plot_roc(true_labels, test_predictions)\n",
    "skplt.metrics.plot_precision_recall(true_labels, test_predictions)\n",
    "plt.show()"
   ]
  },
  {
   "cell_type": "code",
   "execution_count": null,
   "metadata": {},
   "outputs": [],
   "source": [
    "best_model.summary()"
   ]
  },
  {
   "cell_type": "code",
   "execution_count": null,
   "metadata": {},
   "outputs": [],
   "source": [
    "logs_dir = 'logs/fraud_model'\n",
    "\n",
    "trials_data = get_all_trials(logs_dir)\n",
    "df = pd.DataFrame(trials_data)\n",
    "\n",
    "df.to_csv('logs/keras_tuner_results.csv', index=False)"
   ]
  }
 ],
 "metadata": {
  "kernelspec": {
   "display_name": "machine_learning",
   "language": "python",
   "name": "python3"
  },
  "language_info": {
   "codemirror_mode": {
    "name": "ipython",
    "version": 3
   },
   "file_extension": ".py",
   "mimetype": "text/x-python",
   "name": "python",
   "nbconvert_exporter": "python",
   "pygments_lexer": "ipython3",
   "version": "3.11.10"
  }
 },
 "nbformat": 4,
 "nbformat_minor": 2
}
